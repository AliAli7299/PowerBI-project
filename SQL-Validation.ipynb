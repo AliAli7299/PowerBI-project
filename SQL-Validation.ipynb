{
  "nbformat": 4,
  "nbformat_minor": 0,
  "metadata": {
    "colab": {
      "provenance": [],
      "authorship_tag": "ABX9TyORL64IhSXG8omfmKYV4vbS",
      "include_colab_link": true
    },
    "kernelspec": {
      "name": "ir",
      "display_name": "R"
    },
    "language_info": {
      "name": "R"
    }
  },
  "cells": [
    {
      "cell_type": "markdown",
      "metadata": {
        "id": "view-in-github",
        "colab_type": "text"
      },
      "source": [
        "<a href=\"https://colab.research.google.com/github/AliAli7299/PowerBI-project/blob/main/SQL-Validation.ipynb\" target=\"_parent\"><img src=\"https://colab.research.google.com/assets/colab-badge.svg\" alt=\"Open In Colab\"/></a>"
      ]
    },
    {
      "cell_type": "markdown",
      "source": [
        "#**In this section, we will be verifying the values that were deducted from PowerBI using SQL. We will be checking total revenue with respect to products, product categories, subcategories, % profit and change in revenue over the years.**"
      ],
      "metadata": {
        "id": "HpI3WCJ2VIjm"
      }
    },
    {
      "cell_type": "code",
      "execution_count": 60,
      "metadata": {
        "id": "QzlH5EUCJviA"
      },
      "outputs": [],
      "source": [
        "sales <- read.csv(\"/content/sales.csv\")\n",
        "product <- read.csv(\"/content/Product.csv\")\n",
        "productcategory <- read.csv(\"/content/ProductCategory.csv\")\n",
        "productsubcategory <- read.csv(\"/content/ProductSubcategory.csv\")\n",
        "stores <- read.csv(\"/content/Stores.csv\")\n",
        "countries <- read.csv(\"/content/Geography.csv\")"
      ]
    },
    {
      "cell_type": "code",
      "source": [
        "install.packages(\"DBI\")\n",
        "install.packages(\"RSQLite\")\n",
        "library(DBI)\n",
        "library(RSQLite)"
      ],
      "metadata": {
        "colab": {
          "base_uri": "https://localhost:8080/"
        },
        "id": "RkGbOTk_OESx",
        "outputId": "986ea237-cbcf-4471-c4de-9308a87bb1c4"
      },
      "execution_count": 3,
      "outputs": [
        {
          "output_type": "stream",
          "name": "stderr",
          "text": [
            "Installing package into ‘/usr/local/lib/R/site-library’\n",
            "(as ‘lib’ is unspecified)\n",
            "\n",
            "Installing package into ‘/usr/local/lib/R/site-library’\n",
            "(as ‘lib’ is unspecified)\n",
            "\n",
            "also installing the dependency ‘plogr’\n",
            "\n",
            "\n"
          ]
        }
      ]
    },
    {
      "cell_type": "code",
      "source": [
        "con <- dbConnect(SQLite(), \"my_database.sqlite\")"
      ],
      "metadata": {
        "id": "EsNM0_wXLFTh"
      },
      "execution_count": 62,
      "outputs": []
    },
    {
      "cell_type": "code",
      "source": [
        "dbWriteTable(con, \"sales\", sales, overwrite = TRUE)\n",
        "dbWriteTable(con, \"productcategory\", productcategory, overwrite = TRUE)\n",
        "dbWriteTable(con, \"productsubcategory\", productsubcategory, overwrite = TRUE)\n",
        "dbWriteTable(con, \"stores\", stores, overwrite = TRUE)\n",
        "dbWriteTable(con, \"countries\", countries, overwrite = TRUE)\n",
        "dbWriteTable(con,\"product\",product,overwrite = TRUE)"
      ],
      "metadata": {
        "id": "4VJwUrijof4F"
      },
      "execution_count": 6,
      "outputs": []
    },
    {
      "cell_type": "markdown",
      "source": [
        "# Let's check if the sum of revenue matches our dashboard\n"
      ],
      "metadata": {
        "id": "A4eApYfLHw3m"
      }
    },
    {
      "cell_type": "code",
      "source": [
        "query1 <- \"SELECT SUM(SalesAmount) FROM sales\"\n",
        "result1 <- dbGetQuery(con, query1)\n",
        "\n",
        "value <- as.numeric(result1[[1]])\n",
        "\n",
        "formatted_result <- format(value, big.mark = \",\", nsmall = 2, scientific = FALSE)\n",
        "\n",
        "cat(\"Total Revenue Amount: \", formatted_result, \"\\n\")"
      ],
      "metadata": {
        "colab": {
          "base_uri": "https://localhost:8080/"
        },
        "id": "KaDhgbGB0wws",
        "outputId": "fa721b7a-8c76-414c-9649-2e40c3f6df4e"
      },
      "execution_count": 8,
      "outputs": [
        {
          "output_type": "stream",
          "name": "stdout",
          "text": [
            "Total Revenue Amount:  8,341,234,294.00 \n"
          ]
        }
      ]
    },
    {
      "cell_type": "markdown",
      "source": [
        "**The sum of revenue matches the numbers on our dashboard, where the total revenue was $ 8.34 B.**\n",
        "**Next, we will check The sum of revenue with respect to each category.**"
      ],
      "metadata": {
        "id": "iZckDgiVIR8c"
      }
    },
    {
      "cell_type": "code",
      "source": [
        "query2 <- \"SELECT SUM(SalesAmount) as SumofSales,productCategory from sales\n",
        "join product on product.productKey = sales.productKey\n",
        "join productSubCategory on product.productSubcategoryKey = ProductSubcategory.productSubcategoryKey\n",
        "join productCategory on productCategory.productCategoryKey = ProductSubcategory.productcategoryKey\n",
        "Group by ProductCategory\n",
        "ORDER BY SumofSales DESC\n",
        "\"\n",
        "\n",
        "result2 <- dbGetQuery(con,query2)\n",
        "result2$SumofSales <- formatC(as.numeric(result2$SumofSales), format = \"f\", digits = 0, big.mark = \",\")\n",
        "result2"
      ],
      "metadata": {
        "colab": {
          "base_uri": "https://localhost:8080/",
          "height": 286
        },
        "id": "Vb7NOSdN3o3a",
        "outputId": "9aca0c8e-f85f-473d-c063-1bb35066a544"
      },
      "execution_count": 9,
      "outputs": [
        {
          "output_type": "display_data",
          "data": {
            "text/html": [
              "<table class=\"dataframe\">\n",
              "<caption>A data.frame: 6 × 2</caption>\n",
              "<thead>\n",
              "\t<tr><th scope=col>SumofSales</th><th scope=col>ProductCategory</th></tr>\n",
              "\t<tr><th scope=col>&lt;chr&gt;</th><th scope=col>&lt;chr&gt;</th></tr>\n",
              "</thead>\n",
              "<tbody>\n",
              "\t<tr><td>3,209,419,288</td><td>Computers                    </td></tr>\n",
              "\t<tr><td>2,562,027,122</td><td>Cameras and camcorders       </td></tr>\n",
              "\t<tr><td>1,360,118,988</td><td>TV and Video                 </td></tr>\n",
              "\t<tr><td>892,237,275  </td><td>Cell phones                  </td></tr>\n",
              "\t<tr><td>165,812,823  </td><td>Music, Movies and Audio Books</td></tr>\n",
              "\t<tr><td>151,618,798  </td><td>Audio                        </td></tr>\n",
              "</tbody>\n",
              "</table>\n"
            ],
            "text/markdown": "\nA data.frame: 6 × 2\n\n| SumofSales &lt;chr&gt; | ProductCategory &lt;chr&gt; |\n|---|---|\n| 3,209,419,288 | Computers                     |\n| 2,562,027,122 | Cameras and camcorders        |\n| 1,360,118,988 | TV and Video                  |\n| 892,237,275   | Cell phones                   |\n| 165,812,823   | Music, Movies and Audio Books |\n| 151,618,798   | Audio                         |\n\n",
            "text/latex": "A data.frame: 6 × 2\n\\begin{tabular}{ll}\n SumofSales & ProductCategory\\\\\n <chr> & <chr>\\\\\n\\hline\n\t 3,209,419,288 & Computers                    \\\\\n\t 2,562,027,122 & Cameras and camcorders       \\\\\n\t 1,360,118,988 & TV and Video                 \\\\\n\t 892,237,275   & Cell phones                  \\\\\n\t 165,812,823   & Music, Movies and Audio Books\\\\\n\t 151,618,798   & Audio                        \\\\\n\\end{tabular}\n",
            "text/plain": [
              "  SumofSales    ProductCategory              \n",
              "1 3,209,419,288 Computers                    \n",
              "2 2,562,027,122 Cameras and camcorders       \n",
              "3 1,360,118,988 TV and Video                 \n",
              "4 892,237,275   Cell phones                  \n",
              "5 165,812,823   Music, Movies and Audio Books\n",
              "6 151,618,798   Audio                        "
            ]
          },
          "metadata": {}
        }
      ]
    },
    {
      "cell_type": "markdown",
      "source": [
        "# **This data frame shows the total sum of sales for six product categories, with Computers having the highest and Audio the lowest.This validates the numbers deduced from PowerBI**"
      ],
      "metadata": {
        "id": "fiSdvYF0IXHv"
      }
    },
    {
      "cell_type": "markdown",
      "source": [
        "#**Let's try to validate the sum of sales with respect to each country, and whether it matches our dashboard.**"
      ],
      "metadata": {
        "id": "_jS61lgaHni3"
      }
    },
    {
      "cell_type": "code",
      "source": [
        "query3 <- \"SELECT SUM(SalesAmount) As sumofsales,RegionCountryname from  sales\n",
        "join stores on sales.StoreKey = stores.storekey\n",
        "join countries on countries.Geographykey = stores.geographykey\n",
        "group by regioncountryname\n",
        "order by sumofsales DESC LIMIT 10\"\n",
        "\n",
        "\n",
        "result3 <- dbGetQuery(con,query3)\n",
        "result3$sumofsales <- formatC(as.numeric(result3$sumofsales), format = \"f\", digits = 0, big.mark = \",\")\n",
        "result3"
      ],
      "metadata": {
        "colab": {
          "base_uri": "https://localhost:8080/",
          "height": 411
        },
        "id": "WHkKlwC1NE8P",
        "outputId": "4c09ab51-fbbf-40b0-bab7-528d307c2c5a"
      },
      "execution_count": 10,
      "outputs": [
        {
          "output_type": "display_data",
          "data": {
            "text/html": [
              "<table class=\"dataframe\">\n",
              "<caption>A data.frame: 10 × 2</caption>\n",
              "<thead>\n",
              "\t<tr><th scope=col>sumofsales</th><th scope=col>RegionCountryName</th></tr>\n",
              "\t<tr><th scope=col>&lt;chr&gt;</th><th scope=col>&lt;chr&gt;</th></tr>\n",
              "</thead>\n",
              "<tbody>\n",
              "\t<tr><td>4,756,355,186</td><td>United States </td></tr>\n",
              "\t<tr><td>1,063,858,277</td><td>China         </td></tr>\n",
              "\t<tr><td>662,755,945  </td><td>Germany       </td></tr>\n",
              "\t<tr><td>433,928,946  </td><td>France        </td></tr>\n",
              "\t<tr><td>220,900,959  </td><td>United Kingdom</td></tr>\n",
              "\t<tr><td>175,942,974  </td><td>Canada        </td></tr>\n",
              "\t<tr><td>163,474,137  </td><td>Japan         </td></tr>\n",
              "\t<tr><td>79,166,726   </td><td>Australia     </td></tr>\n",
              "\t<tr><td>77,874,035   </td><td>India         </td></tr>\n",
              "\t<tr><td>70,604,997   </td><td>Russia        </td></tr>\n",
              "</tbody>\n",
              "</table>\n"
            ],
            "text/markdown": "\nA data.frame: 10 × 2\n\n| sumofsales &lt;chr&gt; | RegionCountryName &lt;chr&gt; |\n|---|---|\n| 4,756,355,186 | United States  |\n| 1,063,858,277 | China          |\n| 662,755,945   | Germany        |\n| 433,928,946   | France         |\n| 220,900,959   | United Kingdom |\n| 175,942,974   | Canada         |\n| 163,474,137   | Japan          |\n| 79,166,726    | Australia      |\n| 77,874,035    | India          |\n| 70,604,997    | Russia         |\n\n",
            "text/latex": "A data.frame: 10 × 2\n\\begin{tabular}{ll}\n sumofsales & RegionCountryName\\\\\n <chr> & <chr>\\\\\n\\hline\n\t 4,756,355,186 & United States \\\\\n\t 1,063,858,277 & China         \\\\\n\t 662,755,945   & Germany       \\\\\n\t 433,928,946   & France        \\\\\n\t 220,900,959   & United Kingdom\\\\\n\t 175,942,974   & Canada        \\\\\n\t 163,474,137   & Japan         \\\\\n\t 79,166,726    & Australia     \\\\\n\t 77,874,035    & India         \\\\\n\t 70,604,997    & Russia        \\\\\n\\end{tabular}\n",
            "text/plain": [
              "   sumofsales    RegionCountryName\n",
              "1  4,756,355,186 United States    \n",
              "2  1,063,858,277 China            \n",
              "3  662,755,945   Germany          \n",
              "4  433,928,946   France           \n",
              "5  220,900,959   United Kingdom   \n",
              "6  175,942,974   Canada           \n",
              "7  163,474,137   Japan            \n",
              "8  79,166,726    Australia        \n",
              "9  77,874,035    India            \n",
              "10 70,604,997    Russia           "
            ]
          },
          "metadata": {}
        }
      ]
    },
    {
      "cell_type": "markdown",
      "source": [
        "# **Let's do the same for product subcategory.**"
      ],
      "metadata": {
        "id": "G4zTPaM7XZc8"
      }
    },
    {
      "cell_type": "code",
      "source": [
        "query4 <- \"SELECT SUM(SalesAmount) as SumofSales,productSubcategory from sales\n",
        "join product on product.productKey = sales.productKey\n",
        "join productSubCategory on product.productSubcategoryKey = ProductSubcategory.productSubcategoryKey\n",
        "Group by ProductSubcategory\n",
        "ORDER BY SumofSales DESC LIMIT 10\n",
        "\"\n",
        "\n",
        "result4 <- dbGetQuery(con,query4)\n",
        "result4$SumofSales <- formatC(as.numeric(result4$SumofSales), format = \"f\", digits = 0, big.mark = \",\")\n",
        "result4"
      ],
      "metadata": {
        "colab": {
          "base_uri": "https://localhost:8080/",
          "height": 411
        },
        "id": "6T0mm32hHbuK",
        "outputId": "53e3be32-a84f-492a-8a8b-d2d7e9b14c67"
      },
      "execution_count": 13,
      "outputs": [
        {
          "output_type": "display_data",
          "data": {
            "text/html": [
              "<table class=\"dataframe\">\n",
              "<caption>A data.frame: 10 × 2</caption>\n",
              "<thead>\n",
              "\t<tr><th scope=col>SumofSales</th><th scope=col>ProductSubcategory</th></tr>\n",
              "\t<tr><th scope=col>&lt;chr&gt;</th><th scope=col>&lt;chr&gt;</th></tr>\n",
              "</thead>\n",
              "<tbody>\n",
              "\t<tr><td>1,335,302,129</td><td>Camcorders          </td></tr>\n",
              "\t<tr><td>1,107,194,324</td><td>Projectors &amp; Screens</td></tr>\n",
              "\t<tr><td>933,128,637  </td><td>Laptops             </td></tr>\n",
              "\t<tr><td>809,994,029  </td><td>Digital SLR Cameras </td></tr>\n",
              "\t<tr><td>709,116,951  </td><td>Home Theater System </td></tr>\n",
              "\t<tr><td>508,192,585  </td><td>Desktops            </td></tr>\n",
              "\t<tr><td><span style=white-space:pre-wrap>423,388,671  </span></td><td>Smart phones &amp; PDAs </td></tr>\n",
              "\t<tr><td>365,082,773  </td><td>Digital Cameras     </td></tr>\n",
              "\t<tr><td>307,378,938  </td><td>Televisions         </td></tr>\n",
              "\t<tr><td>306,815,784  </td><td>Car Video           </td></tr>\n",
              "</tbody>\n",
              "</table>\n"
            ],
            "text/markdown": "\nA data.frame: 10 × 2\n\n| SumofSales &lt;chr&gt; | ProductSubcategory &lt;chr&gt; |\n|---|---|\n| 1,335,302,129 | Camcorders           |\n| 1,107,194,324 | Projectors &amp; Screens |\n| 933,128,637   | Laptops              |\n| 809,994,029   | Digital SLR Cameras  |\n| 709,116,951   | Home Theater System  |\n| 508,192,585   | Desktops             |\n| 423,388,671   | Smart phones &amp; PDAs  |\n| 365,082,773   | Digital Cameras      |\n| 307,378,938   | Televisions          |\n| 306,815,784   | Car Video            |\n\n",
            "text/latex": "A data.frame: 10 × 2\n\\begin{tabular}{ll}\n SumofSales & ProductSubcategory\\\\\n <chr> & <chr>\\\\\n\\hline\n\t 1,335,302,129 & Camcorders          \\\\\n\t 1,107,194,324 & Projectors \\& Screens\\\\\n\t 933,128,637   & Laptops             \\\\\n\t 809,994,029   & Digital SLR Cameras \\\\\n\t 709,116,951   & Home Theater System \\\\\n\t 508,192,585   & Desktops            \\\\\n\t 423,388,671   & Smart phones \\& PDAs \\\\\n\t 365,082,773   & Digital Cameras     \\\\\n\t 307,378,938   & Televisions         \\\\\n\t 306,815,784   & Car Video           \\\\\n\\end{tabular}\n",
            "text/plain": [
              "   SumofSales    ProductSubcategory  \n",
              "1  1,335,302,129 Camcorders          \n",
              "2  1,107,194,324 Projectors & Screens\n",
              "3  933,128,637   Laptops             \n",
              "4  809,994,029   Digital SLR Cameras \n",
              "5  709,116,951   Home Theater System \n",
              "6  508,192,585   Desktops            \n",
              "7  423,388,671   Smart phones & PDAs \n",
              "8  365,082,773   Digital Cameras     \n",
              "9  307,378,938   Televisions         \n",
              "10 306,815,784   Car Video           "
            ]
          },
          "metadata": {}
        }
      ]
    },
    {
      "cell_type": "markdown",
      "source": [
        "# In the next step, we'll calculate the % profit for product subcategories."
      ],
      "metadata": {
        "id": "y81v_kc5Xc8T"
      }
    },
    {
      "cell_type": "code",
      "source": [
        "query5 <- \" SELECT  SUM(SalesAmount - TotalCost) / SUM(SalesAmount) As percent_profit, productSubcategory from sales\n",
        "join product on product.productKey = sales.productKey\n",
        "join productSubCategory on product.productSubcategoryKey = ProductSubcategory.productSubcategoryKey\n",
        "Group by ProductSubcategory\n",
        "ORDER BY percent_profit ASC LIMIT 10\"\n",
        "\n",
        "result5 <- dbGetQuery(con,query5)\n",
        "result5$percent_profit <- paste0(formatC(as.numeric(result5$percent_profit) * 100, format = \"f\", digits = 2), \"%\")\n",
        "\n",
        "result5"
      ],
      "metadata": {
        "colab": {
          "base_uri": "https://localhost:8080/",
          "height": 411
        },
        "id": "dc4rDjmMJxlG",
        "outputId": "1ab3abc6-05f5-4374-9545-36e0f88c3886"
      },
      "execution_count": 19,
      "outputs": [
        {
          "output_type": "display_data",
          "data": {
            "text/html": [
              "<table class=\"dataframe\">\n",
              "<caption>A data.frame: 10 × 2</caption>\n",
              "<thead>\n",
              "\t<tr><th scope=col>percent_profit</th><th scope=col>ProductSubcategory</th></tr>\n",
              "\t<tr><th scope=col>&lt;chr&gt;</th><th scope=col>&lt;chr&gt;</th></tr>\n",
              "</thead>\n",
              "<tbody>\n",
              "\t<tr><td>51.38%</td><td>Desktops                        </td></tr>\n",
              "\t<tr><td>52.18%</td><td>Cameras &amp; Camcorders Accessories</td></tr>\n",
              "\t<tr><td>52.44%</td><td>Computers Accessories           </td></tr>\n",
              "\t<tr><td>52.52%</td><td>Cell phones Accessories         </td></tr>\n",
              "\t<tr><td>52.75%</td><td>Car Video                       </td></tr>\n",
              "\t<tr><td>53.34%</td><td><span style=white-space:pre-wrap>VCD &amp; DVD                       </span></td></tr>\n",
              "\t<tr><td>54.05%</td><td>Recording Pen                   </td></tr>\n",
              "\t<tr><td>54.18%</td><td>Home Theater System             </td></tr>\n",
              "\t<tr><td>55.37%</td><td>Touch Screen Phones             </td></tr>\n",
              "\t<tr><td>55.75%</td><td>Laptops                         </td></tr>\n",
              "</tbody>\n",
              "</table>\n"
            ],
            "text/markdown": "\nA data.frame: 10 × 2\n\n| percent_profit &lt;chr&gt; | ProductSubcategory &lt;chr&gt; |\n|---|---|\n| 51.38% | Desktops                         |\n| 52.18% | Cameras &amp; Camcorders Accessories |\n| 52.44% | Computers Accessories            |\n| 52.52% | Cell phones Accessories          |\n| 52.75% | Car Video                        |\n| 53.34% | VCD &amp; DVD                        |\n| 54.05% | Recording Pen                    |\n| 54.18% | Home Theater System              |\n| 55.37% | Touch Screen Phones              |\n| 55.75% | Laptops                          |\n\n",
            "text/latex": "A data.frame: 10 × 2\n\\begin{tabular}{ll}\n percent\\_profit & ProductSubcategory\\\\\n <chr> & <chr>\\\\\n\\hline\n\t 51.38\\% & Desktops                        \\\\\n\t 52.18\\% & Cameras \\& Camcorders Accessories\\\\\n\t 52.44\\% & Computers Accessories           \\\\\n\t 52.52\\% & Cell phones Accessories         \\\\\n\t 52.75\\% & Car Video                       \\\\\n\t 53.34\\% & VCD \\& DVD                       \\\\\n\t 54.05\\% & Recording Pen                   \\\\\n\t 54.18\\% & Home Theater System             \\\\\n\t 55.37\\% & Touch Screen Phones             \\\\\n\t 55.75\\% & Laptops                         \\\\\n\\end{tabular}\n",
            "text/plain": [
              "   percent_profit ProductSubcategory              \n",
              "1  51.38%         Desktops                        \n",
              "2  52.18%         Cameras & Camcorders Accessories\n",
              "3  52.44%         Computers Accessories           \n",
              "4  52.52%         Cell phones Accessories         \n",
              "5  52.75%         Car Video                       \n",
              "6  53.34%         VCD & DVD                       \n",
              "7  54.05%         Recording Pen                   \n",
              "8  54.18%         Home Theater System             \n",
              "9  55.37%         Touch Screen Phones             \n",
              "10 55.75%         Laptops                         "
            ]
          },
          "metadata": {}
        }
      ]
    },
    {
      "cell_type": "markdown",
      "source": [
        "# **Finally, we need to calculate change in % revenue between 2011 and 2013.**"
      ],
      "metadata": {
        "id": "nYbbphOPXh0H"
      }
    },
    {
      "cell_type": "code",
      "source": [
        "query6 <- \"\n",
        "WITH sales_2011 AS (\n",
        "  SELECT productKey, SUM(SalesAmount) AS revenue_2011\n",
        "  FROM sales\n",
        "  WHERE year = 2011\n",
        "  GROUP BY productKey\n",
        "),\n",
        "sales_2013 AS (\n",
        "  SELECT productKey, SUM(SalesAmount) AS revenue_2013\n",
        "  FROM sales\n",
        "  WHERE year = 2013\n",
        "  GROUP BY productKey\n",
        ")\n",
        "SELECT\n",
        "  p.productName,\n",
        "  ROUND(\n",
        "    ((s13.revenue_2013 * 100.0 / NULLIF(s11.revenue_2011, 0)) - 100),\n",
        "    2\n",
        "  ) AS percent_change\n",
        "FROM sales_2011 s11\n",
        "JOIN sales_2013 s13 ON s11.productKey = s13.productKey\n",
        "JOIN product p ON p.productKey = s11.productKey\n",
        "ORDER BY percent_change ASC\n",
        "LIMIT 10\n",
        "\"\n",
        "\n",
        "result6 <- dbGetQuery(con, query6)\n",
        "\n",
        "result6$percent_change <- paste0(\n",
        "  formatC(as.numeric(result6$percent_change), format = 'f', digits = 2),\n",
        "  \"%\"\n",
        ")\n",
        "\n",
        "result6\n"
      ],
      "metadata": {
        "colab": {
          "base_uri": "https://localhost:8080/",
          "height": 411
        },
        "id": "5PUoOzx4NLEf",
        "outputId": "9d02adcf-46f7-4b9b-c9a0-386995640d21"
      },
      "execution_count": 63,
      "outputs": [
        {
          "output_type": "display_data",
          "data": {
            "text/html": [
              "<table class=\"dataframe\">\n",
              "<caption>A data.frame: 10 × 2</caption>\n",
              "<thead>\n",
              "\t<tr><th scope=col>ProductName</th><th scope=col>percent_change</th></tr>\n",
              "\t<tr><th scope=col>&lt;chr&gt;</th><th scope=col>&lt;chr&gt;</th></tr>\n",
              "</thead>\n",
              "<tbody>\n",
              "\t<tr><td>Adventure Works Desktop PC1.80 ED182 Brown </td><td>-88.70%</td></tr>\n",
              "\t<tr><td>Adventure Works Desktop PC1.80 ED180 Black </td><td>-88.66%</td></tr>\n",
              "\t<tr><td>Adventure Works Desktop PC1.80 ED180 Brown </td><td>-88.49%</td></tr>\n",
              "\t<tr><td>Adventure Works Desktop PC1.80 ED182 Silver</td><td>-88.38%</td></tr>\n",
              "\t<tr><td>Adventure Works Desktop PC1.80 ED180 White </td><td>-88.29%</td></tr>\n",
              "\t<tr><td>Adventure Works Desktop PC3.0 MS300 Silver </td><td>-87.70%</td></tr>\n",
              "\t<tr><td>WWI Desktop PC3.0 M0300 Silver             </td><td>-87.56%</td></tr>\n",
              "\t<tr><td>Adventure Works Desktop PC1.80 ED182 White </td><td>-87.38%</td></tr>\n",
              "\t<tr><td>Adventure Works Desktop PC1.80 ED182 Black </td><td>-86.85%</td></tr>\n",
              "\t<tr><td>Adventure Works Desktop PC1.80 ED180 Silver</td><td>-86.34%</td></tr>\n",
              "</tbody>\n",
              "</table>\n"
            ],
            "text/markdown": "\nA data.frame: 10 × 2\n\n| ProductName &lt;chr&gt; | percent_change &lt;chr&gt; |\n|---|---|\n| Adventure Works Desktop PC1.80 ED182 Brown  | -88.70% |\n| Adventure Works Desktop PC1.80 ED180 Black  | -88.66% |\n| Adventure Works Desktop PC1.80 ED180 Brown  | -88.49% |\n| Adventure Works Desktop PC1.80 ED182 Silver | -88.38% |\n| Adventure Works Desktop PC1.80 ED180 White  | -88.29% |\n| Adventure Works Desktop PC3.0 MS300 Silver  | -87.70% |\n| WWI Desktop PC3.0 M0300 Silver              | -87.56% |\n| Adventure Works Desktop PC1.80 ED182 White  | -87.38% |\n| Adventure Works Desktop PC1.80 ED182 Black  | -86.85% |\n| Adventure Works Desktop PC1.80 ED180 Silver | -86.34% |\n\n",
            "text/latex": "A data.frame: 10 × 2\n\\begin{tabular}{ll}\n ProductName & percent\\_change\\\\\n <chr> & <chr>\\\\\n\\hline\n\t Adventure Works Desktop PC1.80 ED182 Brown  & -88.70\\%\\\\\n\t Adventure Works Desktop PC1.80 ED180 Black  & -88.66\\%\\\\\n\t Adventure Works Desktop PC1.80 ED180 Brown  & -88.49\\%\\\\\n\t Adventure Works Desktop PC1.80 ED182 Silver & -88.38\\%\\\\\n\t Adventure Works Desktop PC1.80 ED180 White  & -88.29\\%\\\\\n\t Adventure Works Desktop PC3.0 MS300 Silver  & -87.70\\%\\\\\n\t WWI Desktop PC3.0 M0300 Silver              & -87.56\\%\\\\\n\t Adventure Works Desktop PC1.80 ED182 White  & -87.38\\%\\\\\n\t Adventure Works Desktop PC1.80 ED182 Black  & -86.85\\%\\\\\n\t Adventure Works Desktop PC1.80 ED180 Silver & -86.34\\%\\\\\n\\end{tabular}\n",
            "text/plain": [
              "   ProductName                                 percent_change\n",
              "1  Adventure Works Desktop PC1.80 ED182 Brown  -88.70%       \n",
              "2  Adventure Works Desktop PC1.80 ED180 Black  -88.66%       \n",
              "3  Adventure Works Desktop PC1.80 ED180 Brown  -88.49%       \n",
              "4  Adventure Works Desktop PC1.80 ED182 Silver -88.38%       \n",
              "5  Adventure Works Desktop PC1.80 ED180 White  -88.29%       \n",
              "6  Adventure Works Desktop PC3.0 MS300 Silver  -87.70%       \n",
              "7  WWI Desktop PC3.0 M0300 Silver              -87.56%       \n",
              "8  Adventure Works Desktop PC1.80 ED182 White  -87.38%       \n",
              "9  Adventure Works Desktop PC1.80 ED182 Black  -86.85%       \n",
              "10 Adventure Works Desktop PC1.80 ED180 Silver -86.34%       "
            ]
          },
          "metadata": {}
        }
      ]
    },
    {
      "cell_type": "code",
      "source": [
        "dbDisconnect(con)"
      ],
      "metadata": {
        "id": "VENzfMmEVBGk"
      },
      "execution_count": 64,
      "outputs": []
    },
    {
      "cell_type": "markdown",
      "source": [
        "# **Sum of sales in product subcategory, % profit, and change in revenue all match the numbers in PowerBI. this way we can make sure that PowerBI gave us the correct output.**"
      ],
      "metadata": {
        "id": "hwI0J6E2U0Tv"
      }
    }
  ]
}